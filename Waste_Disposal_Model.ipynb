{
  "nbformat": 4,
  "nbformat_minor": 0,
  "metadata": {
    "colab": {
      "provenance": [],
      "authorship_tag": "ABX9TyPXS4PFMX4KmGWxIn5JEeFB",
      "include_colab_link": true
    },
    "kernelspec": {
      "name": "python3",
      "display_name": "Python 3"
    },
    "language_info": {
      "name": "python"
    }
  },
  "cells": [
    {
      "cell_type": "markdown",
      "metadata": {
        "id": "view-in-github",
        "colab_type": "text"
      },
      "source": [
        "<a href=\"https://colab.research.google.com/github/yongvc/Waste-Disposal-Model/blob/main/Waste_Disposal_Model.ipynb\" target=\"_parent\"><img src=\"https://colab.research.google.com/assets/colab-badge.svg\" alt=\"Open In Colab\"/></a>"
      ]
    },
    {
      "cell_type": "markdown",
      "source": [
        "# Waste Disposal Model\n",
        "\n",
        "This model is build by students in **KMSw** for STEMEXP2022 challenge.\n",
        "\n",
        "Theme: Climate\n",
        "\n",
        "Problem: Waste Disposal\n",
        "\n",
        "Title of research:\n",
        "**REALIZATION INDEX AND ITS EFFECTS ON WASTE DISPOSAL:\n",
        "A MODELLING APPROACH**\n",
        "\n",
        "Supervisor: Shafiq Bin Rasulan\n",
        "\n",
        "Team members:\n",
        "1.   Yong Vin Cent\n",
        "2.   Samuel Tang Chok Loong\n",
        "3.   Jessared Romeo Jesselton Mac\n",
        "4.   Kylie Lee Chai Woon\n",
        "\n",
        "\n",
        "\n",
        "\n",
        "The mathematical model simulates how does the **realisation rate of people** affects the **waste disposal** in Malaysia.\n",
        "\n"
      ],
      "metadata": {
        "id": "K7nPb-s7d1Nc"
      }
    },
    {
      "cell_type": "markdown",
      "source": [
        "## Import Modules and Packages"
      ],
      "metadata": {
        "id": "1i7FWGhrfelj"
      }
    },
    {
      "cell_type": "code",
      "execution_count": null,
      "metadata": {
        "id": "kK3FpcUDbBGM"
      },
      "outputs": [],
      "source": [
        "import math\n",
        "import matplotlib.pyplot as plt"
      ]
    },
    {
      "cell_type": "markdown",
      "source": [
        "## Define General Variables"
      ],
      "metadata": {
        "id": "6OSEsi0Vfjhv"
      }
    },
    {
      "cell_type": "code",
      "source": [
        "INIT_YEAR = 2022\n",
        "END_YEAR = 2050\n",
        "year_length = END_YEAR - INIT_YEAR\n",
        "GROWTH_DECLINATION_RATE = 0.04\n",
        "growth_rate = 0.0123\n",
        "population = 33059083 #as of 17/3/2022\n",
        "WASTE_RATE = 1.64\n",
        "x_year = []\n",
        "y_population = []\n",
        "y_realization = []\n",
        "y_waste = []\n",
        "y_recycled = []\n",
        "y_disposed = []"
      ],
      "metadata": {
        "id": "TSAu-tUScNcL"
      },
      "execution_count": null,
      "outputs": []
    },
    {
      "cell_type": "markdown",
      "source": [
        "## Define General Functions"
      ],
      "metadata": {
        "id": "aehJh_yWvOKG"
      }
    },
    {
      "cell_type": "code",
      "source": [
        "def Year():\n",
        "  global x_year\n",
        "  for i in range(year_length + 1):\n",
        "    x_year.append(i + INIT_YEAR)\n",
        "\n",
        "def P(): #population\n",
        "  global y_population, growth_rate, population\n",
        "  for i in range(year_length + 1):\n",
        "    y_population.append(population)\n",
        "    population += population*growth_rate\n",
        "    growth_rate *= 1-GROWTH_DECLINATION_RATE\n",
        "    print(x_year[i], \"\\t\", round(y_population[i]))\n",
        "\n",
        "def R(year, realization_rate): #realization\n",
        "  return INIT_REALIZATION + (1-INIT_REALIZATION)/(1+15*math.exp(-year*realization_rate))\n",
        "\n",
        "def W(population): #waste created\n",
        "  return population * WASTE_RATE * 365\n",
        "\n",
        "def Rc(waste, realization): #recycled\n",
        "  return waste * realization\n",
        "\n",
        "def D(waste, recycled): #disposal\n",
        "  return waste - recycled"
      ],
      "metadata": {
        "id": "qQAWcoAGvRYK"
      },
      "execution_count": null,
      "outputs": []
    },
    {
      "cell_type": "markdown",
      "source": [
        "## Calculate Population"
      ],
      "metadata": {
        "id": "EZViqnN8--zW"
      }
    },
    {
      "cell_type": "code",
      "source": [
        "Year()\n",
        "P()\n",
        "plt.plot(x_year, y_population)\n",
        "plt.xlabel(\"Year\")\n",
        "plt.ylabel(\"Population (people)\")\n",
        "plt.title(\"Graph of Population against Year\")"
      ],
      "metadata": {
        "colab": {
          "base_uri": "https://localhost:8080/",
          "height": 815
        },
        "id": "q1s_bFyj0aAm",
        "outputId": "46e2af6f-8fda-41ac-95db-872e707caeb8"
      },
      "execution_count": null,
      "outputs": [
        {
          "output_type": "stream",
          "name": "stdout",
          "text": [
            "2022 \t 33059083\n",
            "2023 \t 33465710\n",
            "2024 \t 33860873\n",
            "2025 \t 34244709\n",
            "2026 \t 34617368\n",
            "2027 \t 34979015\n",
            "2028 \t 35329822\n",
            "2029 \t 35669975\n",
            "2030 \t 35999666\n",
            "2031 \t 36319094\n",
            "2032 \t 36628466\n",
            "2033 \t 36927993\n",
            "2034 \t 37217891\n",
            "2035 \t 37498377\n",
            "2036 \t 37769673\n",
            "2037 \t 38032002\n",
            "2038 \t 38285586\n",
            "2039 \t 38530651\n",
            "2040 \t 38767418\n",
            "2041 \t 38996112\n",
            "2042 \t 39216953\n",
            "2043 \t 39430161\n",
            "2044 \t 39635954\n",
            "2045 \t 39834545\n",
            "2046 \t 40026149\n",
            "2047 \t 40210973\n",
            "2048 \t 40389223\n",
            "2049 \t 40561102\n",
            "2050 \t 40726808\n"
          ]
        },
        {
          "output_type": "execute_result",
          "data": {
            "text/plain": [
              "Text(0.5, 1.0, 'Graph of Population against Year')"
            ]
          },
          "metadata": {},
          "execution_count": 4
        },
        {
          "output_type": "display_data",
          "data": {
            "text/plain": [
              "<Figure size 432x288 with 1 Axes>"
            ],
            "image/png": "[encoded data removed]"
          },
          "metadata": {
            "needs_background": "light"
          }
        }
      ]
    },
    {
      "cell_type": "markdown",
      "source": [
        "## Experiment 1:\n",
        "\n",
        "Waste, Waste Recycled and Waste Disposed against Year for Realization Index, $n = 10$\n",
        "\n",
        "Require $27.1$ years to increase realization by $50\\%$\n",
        "\n",
        "Initial Realization of $0.3$ means $30\\%$  of people had already realized and acted on this issue."
      ],
      "metadata": {
        "id": "hO7xWp1MGYaQ"
      }
    },
    {
      "cell_type": "markdown",
      "source": [
        "### Define variables"
      ],
      "metadata": {
        "id": "3_uylytkUfBv"
      }
    },
    {
      "cell_type": "code",
      "source": [
        "REALIZATION_INDEX = 10\n",
        "REALIZATION_RATE = 1.0/REALIZATION_INDEX\n",
        "INIT_REALIZATION = 0.3"
      ],
      "metadata": {
        "id": "11uPcYELzS9r"
      },
      "execution_count": null,
      "outputs": []
    },
    {
      "cell_type": "markdown",
      "source": [
        "### Calculations"
      ],
      "metadata": {
        "id": "44l6Hdfg0aYv"
      }
    },
    {
      "cell_type": "markdown",
      "source": [
        "#### Realization\n",
        "\n"
      ],
      "metadata": {
        "id": "fLbVz0qM_H3n"
      }
    },
    {
      "cell_type": "code",
      "source": [
        "for i in range(year_length + 1):\n",
        "  y_realization.append(R(i, REALIZATION_RATE))\n",
        "  print(x_year[i], \"\\t\", round(y_realization[i], 5))\n",
        "plt.plot(x_year, y_realization)\n",
        "plt.xlabel(\"Year\")\n",
        "plt.ylabel(\"Realization\")\n",
        "plt.title(\"Graph of Realization against Year\")"
      ],
      "metadata": {
        "colab": {
          "base_uri": "https://localhost:8080/",
          "height": 815
        },
        "id": "sdUvUeQu4EZn",
        "outputId": "56873ec6-fe69-40a1-e088-efca3fccc2f9"
      },
      "execution_count": null,
      "outputs": [
        {
          "output_type": "stream",
          "name": "stdout",
          "text": [
            "2022 \t 0.34375\n",
            "2023 \t 0.34804\n",
            "2024 \t 0.35271\n",
            "2025 \t 0.35779\n",
            "2026 \t 0.36332\n",
            "2027 \t 0.36932\n",
            "2028 \t 0.37582\n",
            "2029 \t 0.38285\n",
            "2030 \t 0.39044\n",
            "2031 \t 0.39861\n",
            "2032 \t 0.40739\n",
            "2033 \t 0.4168\n",
            "2034 \t 0.42686\n",
            "2035 \t 0.43758\n",
            "2036 \t 0.44897\n",
            "2037 \t 0.46103\n",
            "2038 \t 0.47376\n",
            "2039 \t 0.48715\n",
            "2040 \t 0.50118\n",
            "2041 \t 0.51581\n",
            "2042 \t 0.53102\n",
            "2043 \t 0.54675\n",
            "2044 \t 0.56296\n",
            "2045 \t 0.57957\n",
            "2046 \t 0.59651\n",
            "2047 \t 0.61372\n",
            "2048 \t 0.63111\n",
            "2049 \t 0.64859\n",
            "2050 \t 0.66608\n"
          ]
        },
        {
          "output_type": "execute_result",
          "data": {
            "text/plain": [
              "Text(0.5, 1.0, 'Graph of Realization against Year')"
            ]
          },
          "metadata": {},
          "execution_count": 6
        },
        {
          "output_type": "display_data",
          "data": {
            "text/plain": [
              "<Figure size 432x288 with 1 Axes>"
            ],
            "image/png": "[encoded data removed]"
          },
          "metadata": {
            "needs_background": "light"
          }
        }
      ]
    },
    {
      "cell_type": "markdown",
      "source": [
        "#### Waste Created"
      ],
      "metadata": {
        "id": "sQlwLP_tllQJ"
      }
    },
    {
      "cell_type": "code",
      "source": [
        "for i in range(year_length + 1):\n",
        "  y_waste.append(W(y_population[i]))\n",
        "  print(x_year[i], \"\\t\", round(y_waste[i]))\n",
        "plt.plot(x_year, y_waste)\n",
        "plt.xlabel(\"Year\")\n",
        "plt.ylabel(\"Waste Created (kg)\")\n",
        "plt.title(\"Graph of Waste Created against Year\")"
      ],
      "metadata": {
        "colab": {
          "base_uri": "https://localhost:8080/",
          "height": 815
        },
        "id": "vfLbbu9Llkvd",
        "outputId": "7315bd94-5d03-412c-d372-f40ed640314d"
      },
      "execution_count": null,
      "outputs": [
        {
          "output_type": "stream",
          "name": "stdout",
          "text": [
            "2022 \t 19789167084\n",
            "2023 \t 20032573839\n",
            "2024 \t 20269118471\n",
            "2025 \t 20498882712\n",
            "2026 \t 20721956735\n",
            "2027 \t 20938438244\n",
            "2028 \t 21148431604\n",
            "2029 \t 21352047029\n",
            "2030 \t 21549399814\n",
            "2031 \t 21740609617\n",
            "2032 \t 21925799786\n",
            "2033 \t 22105096729\n",
            "2034 \t 22278629337\n",
            "2035 \t 22446528440\n",
            "2036 \t 22608926309\n",
            "2037 \t 22765956194\n",
            "2038 \t 22917751905\n",
            "2039 \t 23064447426\n",
            "2040 \t 23206176558\n",
            "2041 \t 23343072602\n",
            "2042 \t 23475268068\n",
            "2043 \t 23602894413\n",
            "2044 \t 23726081808\n",
            "2045 \t 23844958924\n",
            "2046 \t 23959652753\n",
            "2047 \t 24070288436\n",
            "2048 \t 24176989127\n",
            "2049 \t 24279875862\n",
            "2050 \t 24379067455\n"
          ]
        },
        {
          "output_type": "execute_result",
          "data": {
            "text/plain": [
              "Text(0.5, 1.0, 'Graph of Waste Created against Year')"
            ]
          },
          "metadata": {},
          "execution_count": 7
        },
        {
          "output_type": "display_data",
          "data": {
            "text/plain": [
              "<Figure size 432x288 with 1 Axes>"
            ],
            "image/png": "[encoded data removed]"
          },
          "metadata": {
            "needs_background": "light"
          }
        }
      ]
    },
    {
      "cell_type": "markdown",
      "source": [
        "#### Waste Recycled"
      ],
      "metadata": {
        "id": "TniChyjcwe9L"
      }
    },
    {
      "cell_type": "code",
      "source": [
        "for i in range(year_length + 1):\n",
        "  y_recycled.append(Rc(y_waste[i], y_realization[i]))\n",
        "  print(x_year[i], \"\\t\", round(y_recycled[i]))\n",
        "plt.plot(x_year, y_recycled)\n",
        "plt.xlabel(\"Year\")\n",
        "plt.ylabel(\"Waste Recycled (kg)\")\n",
        "plt.title(\"Graph of Waste Recycled against Year\")"
      ],
      "metadata": {
        "colab": {
          "base_uri": "https://localhost:8080/",
          "height": 815
        },
        "id": "IUWCGEx7wpJU",
        "outputId": "237fdef7-bd70-4896-d2d3-04f6128c85be"
      },
      "execution_count": null,
      "outputs": [
        {
          "output_type": "stream",
          "name": "stdout",
          "text": [
            "2022 \t 6802526185\n",
            "2023 \t 6972046485\n",
            "2024 \t 7149060538\n",
            "2025 \t 7334348938\n",
            "2026 \t 7528720104\n",
            "2027 \t 7733003545\n",
            "2028 \t 7948041423\n",
            "2029 \t 8174678246\n",
            "2030 \t 8413748575\n",
            "2031 \t 8666062646\n",
            "2032 \t 8932389929\n",
            "2033 \t 9213440690\n",
            "2034 \t 9509845763\n",
            "2035 \t 9822134880\n",
            "2036 \t 10150714028\n",
            "2037 \t 10495842490\n",
            "2038 \t 10857610375\n",
            "2039 \t 11235917571\n",
            "2040 \t 11630455194\n",
            "2041 \t 12040690633\n",
            "2042 \t 12465857326\n",
            "2043 \t 12904950287\n",
            "2044 \t 13356728259\n",
            "2045 \t 13819723097\n",
            "2046 \t 14292256651\n",
            "2047 \t 14772465030\n",
            "2048 \t 15258329690\n",
            "2049 \t 15747714366\n",
            "2050 \t 16238406498\n"
          ]
        },
        {
          "output_type": "execute_result",
          "data": {
            "text/plain": [
              "Text(0.5, 1.0, 'Graph of Waste Recycled against Year')"
            ]
          },
          "metadata": {},
          "execution_count": 8
        },
        {
          "output_type": "display_data",
          "data": {
            "text/plain": [
              "<Figure size 432x288 with 1 Axes>"
            ],
            "image/png": "[encoded data removed]"
          },
          "metadata": {
            "needs_background": "light"
          }
        }
      ]
    },
    {
      "cell_type": "markdown",
      "source": [
        "#### Waste Disposed"
      ],
      "metadata": {
        "id": "BaQvQinKyiMt"
      }
    },
    {
      "cell_type": "code",
      "source": [
        "for i in range(year_length + 1):\n",
        "  y_disposed.append(D(y_waste[i], y_recycled[i]))\n",
        "  print(x_year[i], \"\\t\", round(y_disposed[i]))\n",
        "plt.plot(x_year, y_disposed)\n",
        "plt.xlabel(\"Year\")\n",
        "plt.ylabel(\"Waste Disposed (kg)\")\n",
        "plt.title(\"Graph of Waste Disposed against Year\")"
      ],
      "metadata": {
        "colab": {
          "base_uri": "https://localhost:8080/",
          "height": 815
        },
        "id": "e4HZ5AjexhAC",
        "outputId": "c6c912b1-9ef8-4e23-d9b7-e88af18a99d3"
      },
      "execution_count": null,
      "outputs": [
        {
          "output_type": "stream",
          "name": "stdout",
          "text": [
            "2022 \t 12986640899\n",
            "2023 \t 13060527354\n",
            "2024 \t 13120057933\n",
            "2025 \t 13164533774\n",
            "2026 \t 13193236632\n",
            "2027 \t 13205434699\n",
            "2028 \t 13200390181\n",
            "2029 \t 13177368783\n",
            "2030 \t 13135651240\n",
            "2031 \t 13074546972\n",
            "2032 \t 12993409857\n",
            "2033 \t 12891656039\n",
            "2034 \t 12768783574\n",
            "2035 \t 12624393560\n",
            "2036 \t 12458212281\n",
            "2037 \t 12270113704\n",
            "2038 \t 12060141531\n",
            "2039 \t 11828529855\n",
            "2040 \t 11575721364\n",
            "2041 \t 11302381969\n",
            "2042 \t 11009410742\n",
            "2043 \t 10697944126\n",
            "2044 \t 10369353548\n",
            "2045 \t 10025235827\n",
            "2046 \t 9667396102\n",
            "2047 \t 9297823406\n",
            "2048 \t 8918659437\n",
            "2049 \t 8532161497\n",
            "2050 \t 8140660957\n"
          ]
        },
        {
          "output_type": "execute_result",
          "data": {
            "text/plain": [
              "Text(0.5, 1.0, 'Graph of Waste Disposed against Year')"
            ]
          },
          "metadata": {},
          "execution_count": 9
        },
        {
          "output_type": "display_data",
          "data": {
            "text/plain": [
              "<Figure size 432x288 with 1 Axes>"
            ],
            "image/png": "[encoded data removed]"
          },
          "metadata": {
            "needs_background": "light"
          }
        }
      ]
    },
    {
      "cell_type": "markdown",
      "source": [
        "## Experiment 2\n",
        "Waste Disposed against Realization Rate at year 2040"
      ],
      "metadata": {
        "id": "y-_H_ygW3NkN"
      }
    },
    {
      "cell_type": "markdown",
      "source": [
        "### Define variables"
      ],
      "metadata": {
        "id": "Nmr_MdnBzy4i"
      }
    },
    {
      "cell_type": "code",
      "source": [
        "TARGET_YEAR = 2040\n",
        "YEAR_INDEX = TARGET_YEAR - INIT_YEAR\n",
        "x_count = 10 # number of data sets\n",
        "INIT_n = 5 # first realization index value\n",
        "n = [] # realization index\n",
        "rr = [] # realization rate\n",
        "disposed = []"
      ],
      "metadata": {
        "id": "sTAvQPVvzedB"
      },
      "execution_count": null,
      "outputs": []
    },
    {
      "cell_type": "markdown",
      "source": [
        "### Calculations"
      ],
      "metadata": {
        "id": "j6-UhZUDNUOl"
      }
    },
    {
      "cell_type": "code",
      "source": [
        "for i in range(x_count):\n",
        "  n.append(INIT_n + i)\n",
        "  rr.append(1/n[i])\n",
        "  realization = R(YEAR_INDEX, rr[i])\n",
        "  waste = W(y_population[YEAR_INDEX])\n",
        "  recycled = Rc(waste, realization)\n",
        "  disposed.append(D(waste,recycled))\n",
        "  print(n[i], \"\\t\", round(rr[i],2), \"\\t\", round(disposed[i]))"
      ],
      "metadata": {
        "colab": {
          "base_uri": "https://localhost:8080/"
        },
        "id": "ljcOSRWn3Mvz",
        "outputId": "608d286c-a2f0-4927-8955-c9b9401c975c"
      },
      "execution_count": null,
      "outputs": [
        {
          "output_type": "stream",
          "name": "stdout",
          "text": [
            "5 \t 0.2 \t 4722348671\n",
            "6 \t 0.17 \t 6944880291\n",
            "7 \t 0.14 \t 8676131878\n",
            "8 \t 0.12 \t 9950485234\n",
            "9 \t 0.11 \t 10883212440\n",
            "10 \t 0.1 \t 11575721364\n",
            "11 \t 0.09 \t 12100681267\n",
            "12 \t 0.08 \t 12507378235\n",
            "13 \t 0.08 \t 12828996837\n",
            "14 \t 0.07 \t 13088122230\n"
          ]
        }
      ]
    },
    {
      "cell_type": "markdown",
      "source": [
        "## Result\n"
      ],
      "metadata": {
        "id": "KUqKosu22B-p"
      }
    },
    {
      "cell_type": "markdown",
      "source": [
        "### Graph of Waste against Year"
      ],
      "metadata": {
        "id": "lngPdFBAen1M"
      }
    },
    {
      "cell_type": "code",
      "source": [
        "plt.plot(x_year, y_waste, label = \"Waste Created\")\n",
        "plt.plot(x_year, y_recycled, label = \"Waste Recycled\")\n",
        "plt.plot(x_year, y_disposed, label = \"Waste Disposed\")\n",
        "plt.legend()\n",
        "plt.xlabel(\"Year\")\n",
        "plt.ylabel(\"Waste (kg)\")\n",
        "plt.title(\"Graph of Waste against Year\")"
      ],
      "metadata": {
        "colab": {
          "base_uri": "https://localhost:8080/",
          "height": 312
        },
        "id": "zErK062b2FYB",
        "outputId": "a0008225-a4ea-42a5-a3d1-3f0052b796a6"
      },
      "execution_count": null,
      "outputs": [
        {
          "output_type": "execute_result",
          "data": {
            "text/plain": [
              "Text(0.5, 1.0, 'Graph of Waste against Year')"
            ]
          },
          "metadata": {},
          "execution_count": 12
        },
        {
          "output_type": "display_data",
          "data": {
            "text/plain": [
              "<Figure size 432x288 with 1 Axes>"
            ],
            "image/png": "[encoded data removed]"
          },
          "metadata": {
            "needs_background": "light"
          }
        }
      ]
    },
    {
      "cell_type": "markdown",
      "source": [
        "### Graph of Waste Disposal against Realization Index"
      ],
      "metadata": {
        "id": "OE6mjeIwN2vb"
      }
    },
    {
      "cell_type": "code",
      "source": [
        "plt.plot(n, disposed)\n",
        "plt.xlabel(\"Realization Index, n\")\n",
        "plt.ylabel(\"Waste Disposal (kg)\")\n",
        "plt.title(\"Graph of Waste Disposal against Realization Index\")"
      ],
      "metadata": {
        "colab": {
          "base_uri": "https://localhost:8080/",
          "height": 312
        },
        "id": "4oSJuh1PN1NQ",
        "outputId": "92afefb6-e942-47b1-c37f-dccf53ac3abd"
      },
      "execution_count": null,
      "outputs": [
        {
          "output_type": "execute_result",
          "data": {
            "text/plain": [
              "Text(0.5, 1.0, 'Graph of Waste Disposal against Realization Index')"
            ]
          },
          "metadata": {},
          "execution_count": 13
        },
        {
          "output_type": "display_data",
          "data": {
            "text/plain": [
              "<Figure size 432x288 with 1 Axes>"
            ],
            "image/png": "[encoded data removed]"
          },
          "metadata": {
            "needs_background": "light"
          }
        }
      ]
    },
    {
      "cell_type": "markdown",
      "source": [
        "### Graph of Waste Disposal against Realization Rate"
      ],
      "metadata": {
        "id": "BkXocMl4N8sk"
      }
    },
    {
      "cell_type": "code",
      "source": [
        "plt.plot(rr, disposed)\n",
        "plt.xlabel(\"Realization Rate, 1/n\")\n",
        "plt.ylabel(\"Waste Disposal (kg)\")\n",
        "plt.title(\"Graph of Waste Disposal against Realization Rate\")"
      ],
      "metadata": {
        "colab": {
          "base_uri": "https://localhost:8080/",
          "height": 312
        },
        "id": "Cp5j7P4DNH7L",
        "outputId": "70081b9d-9b69-4dee-f1f9-81e493ee1506"
      },
      "execution_count": null,
      "outputs": [
        {
          "output_type": "execute_result",
          "data": {
            "text/plain": [
              "Text(0.5, 1.0, 'Graph of Waste Disposal against Realization Rate')"
            ]
          },
          "metadata": {},
          "execution_count": 14
        },
        {
          "output_type": "display_data",
          "data": {
            "text/plain": [
              "<Figure size 432x288 with 1 Axes>"
            ],
            "image/png": "[encoded data removed]"
          },
          "metadata": {
            "needs_background": "light"
          }
        }
      ]
    }
  ]
}